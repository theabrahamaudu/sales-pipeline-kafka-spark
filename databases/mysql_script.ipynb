{
 "cells": [
  {
   "cell_type": "markdown",
   "metadata": {},
   "source": [
    "#### Import Modules"
   ]
  },
  {
   "cell_type": "code",
   "execution_count": 10,
   "metadata": {},
   "outputs": [],
   "source": [
    "import pymysql\n",
    "pymysql.install_as_MySQLdb()\n",
    "import MySQLdb\n",
    "from pprint import pprint"
   ]
  },
  {
   "cell_type": "code",
   "execution_count": 11,
   "metadata": {},
   "outputs": [],
   "source": [
    "# Connect to the database\n",
    "conn = MySQLdb.connect(host=\"localhost\", user=\"root\", passwd=\"admin\")\n",
    "cur = conn.cursor()"
   ]
  },
  {
   "cell_type": "code",
   "execution_count": 12,
   "metadata": {},
   "outputs": [],
   "source": [
    "# Create funtion to show all rows in cursor\n",
    "def print_result(cursor):\n",
    "    for row in cursor:\n",
    "        pprint(row)"
   ]
  },
  {
   "cell_type": "code",
   "execution_count": 4,
   "metadata": {},
   "outputs": [
    {
     "data": {
      "text/plain": [
       "1"
      ]
     },
     "execution_count": 4,
     "metadata": {},
     "output_type": "execute_result"
    }
   ],
   "source": [
    "# Create sales_db database\n",
    "cur.execute(\"CREATE DATABASE IF NOT EXISTS sales_db\")"
   ]
  },
  {
   "cell_type": "code",
   "execution_count": 13,
   "metadata": {},
   "outputs": [
    {
     "data": {
      "text/plain": [
       "0"
      ]
     },
     "execution_count": 13,
     "metadata": {},
     "output_type": "execute_result"
    }
   ],
   "source": [
    "# Use sales_db\n",
    "cur.execute(\"USE sales_db\")"
   ]
  },
  {
   "cell_type": "code",
   "execution_count": 11,
   "metadata": {},
   "outputs": [
    {
     "data": {
      "text/plain": [
       "0"
      ]
     },
     "execution_count": 11,
     "metadata": {},
     "output_type": "execute_result"
    }
   ],
   "source": [
    "# Create total_sales_by_source_state table\n",
    "cur.execute(\"CREATE TABLE IF NOT EXISTS sales_db.total_sales_by_source_state (source varchar(100), state varchar(100), total_sum_amount double,\\\n",
    "            processed_at datetime, batch_id int(11))\")"
   ]
  },
  {
   "cell_type": "code",
   "execution_count": 14,
   "metadata": {},
   "outputs": [
    {
     "name": "stdout",
     "output_type": "stream",
     "text": [
      "('total_sales_by_source_state',)\n"
     ]
    }
   ],
   "source": [
    "# Show all tables\n",
    "cur.execute(\"SHOW TABLES\")\n",
    "print_result(cur)"
   ]
  },
  {
   "cell_type": "code",
   "execution_count": 17,
   "metadata": {},
   "outputs": [
    {
     "name": "stdout",
     "output_type": "stream",
     "text": [
      "('Organic',\n",
      " 'AL',\n",
      " 300.13618838485365,\n",
      " datetime.datetime(2023, 10, 5, 5, 34, 15),\n",
      " 1)\n",
      "('Facebook',\n",
      " 'MN',\n",
      " 301.9606379872728,\n",
      " datetime.datetime(2023, 10, 5, 5, 34, 15),\n",
      " 1)\n",
      "('Organic',\n",
      " 'NC',\n",
      " 181.10583927789372,\n",
      " datetime.datetime(2023, 10, 5, 5, 34, 30),\n",
      " 2)\n",
      "('Organic',\n",
      " 'NY',\n",
      " 1149.4181403474186,\n",
      " datetime.datetime(2023, 10, 5, 5, 34, 30),\n",
      " 2)\n",
      "('Organic',\n",
      " 'NY',\n",
      " 1243.2081255554367,\n",
      " datetime.datetime(2023, 10, 5, 5, 34, 45),\n",
      " 3)\n",
      "('Facebook',\n",
      " 'TX',\n",
      " 427.01208212095446,\n",
      " datetime.datetime(2023, 10, 5, 5, 34, 45),\n",
      " 3)\n",
      "('Google',\n",
      " 'MT',\n",
      " 720.5130719952779,\n",
      " datetime.datetime(2023, 10, 5, 5, 34, 45),\n",
      " 3)\n",
      "('Facebook', 'TX', 765.4661679441326, datetime.datetime(2023, 10, 5, 5, 35), 4)\n",
      "('Google', 'OH', 866.4324013239502, datetime.datetime(2023, 10, 5, 5, 35), 4)\n",
      "('Facebook',\n",
      " 'CA',\n",
      " 265.27433912480444,\n",
      " datetime.datetime(2023, 10, 5, 5, 35, 15),\n",
      " 5)\n",
      "('Google',\n",
      " 'MI',\n",
      " 279.02029249976505,\n",
      " datetime.datetime(2023, 10, 5, 5, 35, 15),\n",
      " 5)\n",
      "('Google',\n",
      " 'OH',\n",
      " 1551.3359162695754,\n",
      " datetime.datetime(2023, 10, 5, 5, 35, 15),\n",
      " 5)\n",
      "('Google',\n",
      " 'LA',\n",
      " 199.85579541108496,\n",
      " datetime.datetime(2023, 10, 5, 5, 35, 30),\n",
      " 6)\n",
      "('Google',\n",
      " 'MI',\n",
      " 367.4599975635169,\n",
      " datetime.datetime(2023, 10, 5, 5, 35, 30),\n",
      " 6)\n",
      "('Google',\n",
      " 'IL',\n",
      " 1146.4334629763896,\n",
      " datetime.datetime(2023, 10, 5, 5, 35, 30),\n",
      " 6)\n",
      "('Google',\n",
      " 'LA',\n",
      " 1107.5196723284587,\n",
      " datetime.datetime(2023, 10, 5, 5, 35, 45),\n",
      " 7)\n",
      "('Twitter',\n",
      " 'CA',\n",
      " 372.30778653994867,\n",
      " datetime.datetime(2023, 10, 5, 5, 35, 45),\n",
      " 7)\n",
      "('Google', 'ID', 1269.8706210813025, datetime.datetime(2023, 10, 5, 5, 36), 8)\n",
      "('Twitter', 'CA', 426.9838784779261, datetime.datetime(2023, 10, 5, 5, 36), 8)\n",
      "('Organic', 'PA', 151.5467930028837, datetime.datetime(2023, 10, 5, 5, 36), 8)\n",
      "('Google',\n",
      " 'TN',\n",
      " 141.99123284583123,\n",
      " datetime.datetime(2023, 10, 5, 5, 36, 15),\n",
      " 9)\n",
      "('Facebook',\n",
      " 'PA',\n",
      " 129.50942306492706,\n",
      " datetime.datetime(2023, 10, 5, 5, 36, 15),\n",
      " 9)\n",
      "('Google',\n",
      " 'MO',\n",
      " 234.48599564007924,\n",
      " datetime.datetime(2023, 10, 5, 5, 36, 15),\n",
      " 9)\n",
      "('Affiliate',\n",
      " 'OR',\n",
      " 147.8635093102013,\n",
      " datetime.datetime(2023, 10, 5, 5, 36, 15),\n",
      " 9)\n",
      "('Organic',\n",
      " 'PA',\n",
      " 479.87812202625275,\n",
      " datetime.datetime(2023, 10, 5, 5, 36, 15),\n",
      " 9)\n",
      "('Organic',\n",
      " 'GA',\n",
      " 312.3715255937827,\n",
      " datetime.datetime(2023, 10, 5, 5, 36, 15),\n",
      " 9)\n",
      "('Affiliate',\n",
      " 'OH',\n",
      " 138.44810260182928,\n",
      " datetime.datetime(2023, 10, 5, 5, 36, 30),\n",
      " 10)\n",
      "('Affiliate',\n",
      " 'OR',\n",
      " 488.1040624937267,\n",
      " datetime.datetime(2023, 10, 5, 5, 36, 30),\n",
      " 10)\n",
      "('Organic',\n",
      " 'IA',\n",
      " 869.5092056746873,\n",
      " datetime.datetime(2023, 10, 5, 5, 36, 30),\n",
      " 10)\n",
      "('Affiliate',\n",
      " 'OH',\n",
      " 770.161504639741,\n",
      " datetime.datetime(2023, 10, 5, 5, 36, 45),\n",
      " 11)\n",
      "('Facebook',\n",
      " 'AK',\n",
      " 168.45890644058906,\n",
      " datetime.datetime(2023, 10, 5, 5, 36, 45),\n",
      " 11)\n",
      "('Organic',\n",
      " 'MN',\n",
      " 549.6080947669693,\n",
      " datetime.datetime(2023, 10, 5, 5, 36, 45),\n",
      " 11)\n",
      "('Affiliate',\n",
      " 'TX',\n",
      " 347.5901921444188,\n",
      " datetime.datetime(2023, 10, 5, 5, 37),\n",
      " 12)\n",
      "('Facebook', 'AK', 793.6632343978558, datetime.datetime(2023, 10, 5, 5, 37), 12)\n",
      "('Twitter', 'TX', 327.5075085556673, datetime.datetime(2023, 10, 5, 5, 37), 12)\n",
      "('Facebook',\n",
      " 'TN',\n",
      " 948.3886959324186,\n",
      " datetime.datetime(2023, 10, 5, 5, 37, 15),\n",
      " 13)\n",
      "('Affiliate',\n",
      " 'IL',\n",
      " 62.398478876559246,\n",
      " datetime.datetime(2023, 10, 5, 5, 37, 15),\n",
      " 13)\n",
      "('Twitter',\n",
      " 'TX',\n",
      " 573.8915033405327,\n",
      " datetime.datetime(2023, 10, 5, 5, 37, 15),\n",
      " 13)\n",
      "('Affiliate',\n",
      " 'IL',\n",
      " 1197.1345108757864,\n",
      " datetime.datetime(2023, 10, 5, 5, 37, 31),\n",
      " 14)\n",
      "('Organic',\n",
      " 'SD',\n",
      " 492.82435675168006,\n",
      " datetime.datetime(2023, 10, 5, 5, 37, 47),\n",
      " 15)\n",
      "('Affiliate',\n",
      " 'IL',\n",
      " 1314.9709768062385,\n",
      " datetime.datetime(2023, 10, 5, 5, 37, 47),\n",
      " 15)\n",
      "('Google',\n",
      " 'GA',\n",
      " 292.27317927554407,\n",
      " datetime.datetime(2023, 10, 5, 5, 37, 47),\n",
      " 15)\n",
      "('Twitter',\n",
      " 'TX',\n",
      " 797.0057206276239,\n",
      " datetime.datetime(2023, 10, 5, 5, 37, 47),\n",
      " 15)\n",
      "('Organic',\n",
      " 'TX',\n",
      " 647.2727427906675,\n",
      " datetime.datetime(2023, 10, 5, 5, 38, 1),\n",
      " 16)\n",
      "('Google',\n",
      " 'GA',\n",
      " 1003.4188193505762,\n",
      " datetime.datetime(2023, 10, 5, 5, 38, 1),\n",
      " 16)\n",
      "('Organic',\n",
      " 'TX',\n",
      " 948.8584324533795,\n",
      " datetime.datetime(2023, 10, 5, 5, 38, 16),\n",
      " 17)\n",
      "('Organic',\n",
      " 'WY',\n",
      " 1009.382705152663,\n",
      " datetime.datetime(2023, 10, 5, 5, 38, 16),\n",
      " 17)\n",
      "('Facebook',\n",
      " 'MN',\n",
      " 746.5910592255273,\n",
      " datetime.datetime(2023, 10, 5, 5, 38, 32),\n",
      " 18)\n",
      "('Affiliate',\n",
      " 'MI',\n",
      " 638.583008737789,\n",
      " datetime.datetime(2023, 10, 5, 5, 38, 32),\n",
      " 18)\n",
      "('Organic',\n",
      " 'WY',\n",
      " 1188.2036376957612,\n",
      " datetime.datetime(2023, 10, 5, 5, 38, 32),\n",
      " 18)\n"
     ]
    }
   ],
   "source": [
    "# Select all rows from total_sales_by_source_state table\n",
    "cur.execute(\"SELECT * FROM total_sales_by_source_state\")\n",
    "rows = cur.fetchall()\n",
    "print_result(rows)"
   ]
  },
  {
   "cell_type": "code",
   "execution_count": null,
   "metadata": {},
   "outputs": [],
   "source": []
  }
 ],
 "metadata": {
  "kernelspec": {
   "display_name": ".venv",
   "language": "python",
   "name": "python3"
  },
  "language_info": {
   "codemirror_mode": {
    "name": "ipython",
    "version": 3
   },
   "file_extension": ".py",
   "mimetype": "text/x-python",
   "name": "python",
   "nbconvert_exporter": "python",
   "pygments_lexer": "ipython3",
   "version": "3.10.12"
  },
  "orig_nbformat": 4
 },
 "nbformat": 4,
 "nbformat_minor": 2
}

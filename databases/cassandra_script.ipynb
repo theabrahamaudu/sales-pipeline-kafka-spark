{
 "cells": [
  {
   "cell_type": "code",
   "execution_count": 1,
   "metadata": {},
   "outputs": [
    {
     "data": {
      "text/plain": [
       "'This notebook is used to connect to the cassandra cluster and create a keyspace, table, and read data from the table.\\n'"
      ]
     },
     "execution_count": 1,
     "metadata": {},
     "output_type": "execute_result"
    }
   ],
   "source": [
    "\"\"\"This notebook is used to connect to the cassandra cluster and create a keyspace, table, and read data from the table.\n",
    "\"\"\""
   ]
  },
  {
   "cell_type": "markdown",
   "metadata": {},
   "source": [
    "#### Import Modules"
   ]
  },
  {
   "cell_type": "code",
   "execution_count": 7,
   "metadata": {},
   "outputs": [],
   "source": [
    "from cassandra.cluster import Cluster"
   ]
  },
  {
   "cell_type": "code",
   "execution_count": 8,
   "metadata": {},
   "outputs": [],
   "source": [
    "# Connect to the cluster and set up the session\n",
    "cluster = Cluster()\n",
    "session = cluster.connect()\n"
   ]
  },
  {
   "cell_type": "code",
   "execution_count": 3,
   "metadata": {},
   "outputs": [
    {
     "data": {
      "text/plain": [
       "<cassandra.cluster.ResultSet at 0x7efde3359390>"
      ]
     },
     "execution_count": 3,
     "metadata": {},
     "output_type": "execute_result"
    }
   ],
   "source": [
    "# Create keyspace sales_ks \n",
    "session.execute(\"CREATE KEYSPACE IF NOT EXISTS sales_ks WITH replication = {'class' : 'SimpleStrategy', 'replication_factor' : 1}\")"
   ]
  },
  {
   "cell_type": "code",
   "execution_count": 9,
   "metadata": {},
   "outputs": [
    {
     "data": {
      "text/plain": [
       "<cassandra.cluster.ResultSet at 0x7ff6bd2d3bd0>"
      ]
     },
     "execution_count": 9,
     "metadata": {},
     "output_type": "execute_result"
    }
   ],
   "source": [
    "# Use sales_ks\n",
    "session.execute(\"USE sales_ks\")"
   ]
  },
  {
   "cell_type": "code",
   "execution_count": 13,
   "metadata": {},
   "outputs": [
    {
     "data": {
      "text/plain": [
       "<cassandra.cluster.ResultSet at 0x7ff697f883d0>"
      ]
     },
     "execution_count": 13,
     "metadata": {},
     "output_type": "execute_result"
    }
   ],
   "source": [
    "session.execute(\"DROP TABLE IF EXISTS sales_ks.orders_tbl\")"
   ]
  },
  {
   "cell_type": "code",
   "execution_count": 14,
   "metadata": {},
   "outputs": [
    {
     "data": {
      "text/plain": [
       "<cassandra.cluster.ResultSet at 0x7ff6b84c7690>"
      ]
     },
     "execution_count": 14,
     "metadata": {},
     "output_type": "execute_result"
    }
   ],
   "source": [
    "# Create orders_tbl table\n",
    "session.execute(\"CREATE TABLE IF NOT EXISTS sales_ks.orders_tbl (order_id text PRIMARY KEY, created_at text, discount text, product_id text, quantity text,\\\n",
    "                 subtotal text, tax text, total text, customer_id text, timestamp text)\")"
   ]
  },
  {
   "cell_type": "code",
   "execution_count": 17,
   "metadata": {},
   "outputs": [],
   "source": [
    "# Print data from orders_tbl\n",
    "a = session.execute(\"SELECT * FROM sales_ks.orders_tbl\")"
   ]
  },
  {
   "cell_type": "code",
   "execution_count": 18,
   "metadata": {},
   "outputs": [
    {
     "name": "stdout",
     "output_type": "stream",
     "text": [
      "Row(order_id='403', created_at='2017-03-29T14:23:39.433+05:30', customer_id='57', discount='\"NaN\"', product_id='163', quantity='1', subtotal='22.378598800110105', tax='1.34', timestamp='2023-10-05 05:19:42+0100', total='23.92224253271061')\n",
      "Row(order_id='492', created_at='2019-06-07T07:36:02.957+05:30', customer_id='65', discount='\"NaN\"', product_id='20', quantity='5', subtotal='37.32649625046575', tax='1.49', timestamp='2023-10-05 05:21:11+0100', total='38.74865226132636')\n",
      "Row(order_id='483', created_at='2018-01-02T19:01:51.174+05:30', customer_id='65', discount='\"NaN\"', product_id='74', quantity='2', subtotal='51.12804227386549', tax='2.05', timestamp='2023-10-05 05:21:02+0100', total='54.28385180449206')\n",
      "Row(order_id='411', created_at='2019-01-19T19:03:08.410+05:30', customer_id='57', discount='\"NaN\"', product_id='44', quantity='2', subtotal='76.35255205175756', tax='4.58', timestamp='2023-10-05 05:19:50+0100', total='81.46738668101031')\n",
      "Row(order_id='682', created_at='2018-11-08T00:47:03.093+05:30', customer_id='87', discount='3.682341139071698', product_id='50', quantity='4', subtotal='53.64019616819762', tax='0.0', timestamp='2023-10-05 05:24:22+0100', total='54.873069085788686')\n",
      "Row(order_id='697', created_at='2019-05-21T14:41:18.664+05:30', customer_id='87', discount='\"NaN\"', product_id='113', quantity='4', subtotal='110.47725376186015', tax='0.0', timestamp='2023-10-05 05:24:37+0100', total='111.61995699054911')\n",
      "Row(order_id='493', created_at='2017-02-04T10:16:00.936+05:30', customer_id='65', discount='\"NaN\"', product_id='1', quantity='1', subtotal='29.463261130679875', tax='1.18', timestamp='2023-10-05 05:21:12+0100', total='30.375193630968678')\n",
      "Row(order_id='458', created_at='2017-12-09T17:59:11.752+05:30', customer_id='63', discount='\"NaN\"', product_id='157', quantity='2', subtotal='93.26282349158672', tax='5.6', timestamp='2023-10-05 05:20:37+0100', total='98.7943660650463')\n",
      "Row(order_id='712', created_at='2017-07-27T01:53:01.655+05:30', customer_id='87', discount='\"NaN\"', product_id='171', quantity='6', subtotal='70.05110494330981', tax='0.0', timestamp='2023-10-05 05:24:52+0100', total='68.86173401348887')\n",
      "Row(order_id='393', created_at='2020-02-06T00:28:38.766+05:30', customer_id='57', discount='\"NaN\"', product_id='39', quantity='1', subtotal='114.5815818028346', tax='6.87', timestamp='2023-10-05 05:19:32+0100', total='122.28217275024012')\n",
      "Row(order_id='475', created_at='2019-10-11T09:47:07.483+05:30', customer_id='65', discount='\"NaN\"', product_id='197', quantity='7', subtotal='70.14610686710009', tax='2.81', timestamp='2023-10-05 05:20:54+0100', total='71.66012837265198')\n",
      "Row(order_id='408', created_at='2019-10-23T16:42:00.522+05:30', customer_id='57', discount='\"NaN\"', product_id='94', quantity='3', subtotal='109.21864156655384', tax='6.55', timestamp='2023-10-05 05:19:47+0100', total='114.89993508058976')\n",
      "Row(order_id='453', created_at='2019-01-13T04:03:26.192+05:30', customer_id='63', discount='\"NaN\"', product_id='145', quantity='2', subtotal='61.1983004605443', tax='3.67', timestamp='2023-10-05 05:20:32+0100', total='63.78285489131002')\n",
      "Row(order_id='474', created_at='2017-10-31T07:22:14.001+05:30', customer_id='65', discount='\"NaN\"', product_id='113', quantity='7', subtotal='73.65150250790677', tax='2.95', timestamp='2023-10-05 05:20:53+0100', total='77.75060305206577')\n",
      "Row(order_id='467', created_at='2018-12-24T09:05:48.557+05:30', customer_id='63', discount='6.34963976049332', product_id='175', quantity='1', subtotal='117.3248094335266', tax='7.04', timestamp='2023-10-05 05:20:46+0100', total='125.82643041553015')\n",
      "Row(order_id='385', created_at='2017-07-14T11:37:30.265+05:30', customer_id='56', discount='\"NaN\"', product_id='124', quantity='7', subtotal='73.95430432556165', tax='2.14', timestamp='2023-10-05 05:19:24+0100', total='74.85694260575053')\n",
      "Row(order_id='686', created_at='2019-04-14T12:58:10.215+05:30', customer_id='87', discount='\"NaN\"', product_id='170', quantity='3', subtotal='105.07665741496471', tax='0.0', timestamp='2023-10-05 05:24:26+0100', total='102.20643819783828')\n",
      "Row(order_id='500', created_at='2017-11-25T06:36:09.701+05:30', customer_id='65', discount='\"NaN\"', product_id='115', quantity='3', subtotal='51.94130981241432', tax='2.08', timestamp='2023-10-05 05:21:19+0100', total='54.02648606174768')\n",
      "Row(order_id='469', created_at='2018-08-13T01:31:58.300+05:30', customer_id='64', discount='\"NaN\"', product_id='180', quantity='6', subtotal='68.32408657333919', tax='2.73', timestamp='2023-10-05 05:20:48+0100', total='71.13040885356708')\n",
      "Row(order_id='457', created_at='2018-05-22T04:30:44.305+05:30', customer_id='63', discount='\"NaN\"', product_id='178', quantity='5', subtotal='117.32963250370614', tax='7.04', timestamp='2023-10-05 05:20:36+0100', total='124.5196909821671')\n",
      "Row(order_id='429', created_at='2018-08-30T01:53:04.172+05:30', customer_id='59', discount='\"NaN\"', product_id='108', quantity='6', subtotal='50.094887884945365', tax='1.45', timestamp='2023-10-05 05:20:08+0100', total='51.63752424288644')\n",
      "Row(order_id='689', created_at='2018-05-17T16:14:26.680+05:30', customer_id='87', discount='\"NaN\"', product_id='80', quantity='4', subtotal='54.91325681036414', tax='0.0', timestamp='2023-10-05 05:24:29+0100', total='54.40352347225129')\n",
      "Row(order_id='416', created_at='2016-10-28T08:51:33.406+05:30', customer_id='58', discount='\"NaN\"', product_id='167', quantity='6', subtotal='65.13633042746795', tax='3.91', timestamp='2023-10-05 05:19:55+0100', total='69.66705580375492')\n",
      "Row(order_id='452', created_at='2020-04-09T12:19:46.871+05:30', customer_id='63', discount='\"NaN\"', product_id='69', quantity='2', subtotal='73.38772304360626', tax='4.4', timestamp='2023-10-05 05:20:31+0100', total='77.09431003701884')\n",
      "Row(order_id='394', created_at='2018-10-20T15:49:17.571+05:30', customer_id='57', discount='\"NaN\"', product_id='17', quantity='4', subtotal='79.93608046792765', tax='4.8', timestamp='2023-10-05 05:19:33+0100', total='85.0858203587512')\n",
      "Row(order_id='715', created_at='2017-12-11T06:11:59.410+05:30', customer_id='88', discount='\"NaN\"', product_id='173', quantity='2', subtotal='81.57679953529707', tax='6.12', timestamp='2023-10-05 05:24:55+0100', total='85.0107297259339')\n",
      "Row(order_id='702', created_at='2017-09-07T22:58:01.080+05:30', customer_id='87', discount='\"NaN\"', product_id='183', quantity='5', subtotal='37.7982748679465', tax='0.0', timestamp='2023-10-05 05:24:42+0100', total='37.69422609330989')\n",
      "Row(order_id='508', created_at='2016-08-21T02:43:50.773+05:30', customer_id='66', discount='\"NaN\"', product_id='36', quantity='4', subtotal='87.29125153827623', tax='3.49', timestamp='2023-10-05 05:21:27+0100', total='89.55239806614959')\n",
      "Row(order_id='700', created_at='2019-08-27T01:29:20.679+05:30', customer_id='87', discount='\"NaN\"', product_id='167', quantity='6', subtotal='97.70449564120192', tax='0.0', timestamp='2023-10-05 05:24:40+0100', total='96.23829819666508')\n",
      "Row(order_id='687', created_at='2018-05-10T17:10:19.325+05:30', customer_id='87', discount='\"NaN\"', product_id='100', quantity='4', subtotal='67.83486485383094', tax='0.0', timestamp='2023-10-05 05:24:27+0100', total='68.34761842643815')\n",
      "Row(order_id='684', created_at='2019-11-05T09:29:30.573+05:30', customer_id='87', discount='\"NaN\"', product_id='76', quantity='4', subtotal='63.82421061366486', tax='0.0', timestamp='2023-10-05 05:24:24+0100', total='65.00595930900532')\n",
      "Row(order_id='398', created_at='2018-05-13T04:26:35.023+05:30', customer_id='57', discount='\"NaN\"', product_id='197', quantity='5', subtotal='70.14610686710009', tax='4.21', timestamp='2023-10-05 05:19:37+0100', total='76.01338201616488')\n",
      "Row(order_id='444', created_at='2019-09-01T18:26:39.434+05:30', customer_id='61', discount='\"NaN\"', product_id='174', quantity='6', subtotal='111.61430894181083', tax='5.3', timestamp='2023-10-05 05:20:23+0100', total='119.4173523960198')\n",
      "Row(order_id='473', created_at='2019-03-24T09:01:14.827+05:30', customer_id='65', discount='\"NaN\"', product_id='150', quantity='1', subtotal='128.55415037577922', tax='5.14', timestamp='2023-10-05 05:20:52+0100', total='136.44156523489087')\n",
      "Row(order_id='402', created_at='2019-05-15T10:11:28.986+05:30', customer_id='57', discount='\"NaN\"', product_id='159', quantity='5', subtotal='35.53017445377361', tax='2.13', timestamp='2023-10-05 05:19:41+0100', total='38.41711680247753')\n",
      "Row(order_id='390', created_at='2018-09-11T01:52:10.308+05:30', customer_id='56', discount='\"NaN\"', product_id='128', quantity='5', subtotal='75.08016314504417', tax='2.18', timestamp='2023-10-05 05:19:29+0100', total='76.42502365453973')\n",
      "Row(order_id='468', created_at='2019-08-23T00:57:43.983+05:30', customer_id='64', discount='\"NaN\"', product_id='80', quantity='4', subtotal='54.91325681036414', tax='2.2', timestamp='2023-10-05 05:20:47+0100', total='58.61842722995467')\n",
      "Row(order_id='472', created_at='2019-12-27T20:21:32.307+05:30', customer_id='65', discount='\"NaN\"', product_id='76', quantity='1', subtotal='63.82421061366486', tax='2.55', timestamp='2023-10-05 05:20:51+0100', total='66.22436839451568')\n",
      "Row(order_id='719', created_at='2020-04-15T02:21:17.895+05:30', customer_id='91', discount='\"NaN\"', product_id='28', quantity='4', subtotal='68.12471180754113', tax='4.26', timestamp='2023-10-05 05:24:59+0100', total='72.45536907288708')\n",
      "Row(order_id='434', created_at='2017-01-03T00:26:48.520+05:30', customer_id='60', discount='\"NaN\"', product_id='120', quantity='2', subtotal='55.668009001928525', tax='3.34', timestamp='2023-10-05 05:20:13+0100', total='57.932085813587584')\n",
      "Row(order_id='409', created_at='2020-03-23T15:17:05.632+05:30', customer_id='57', discount='6.422638933252092', product_id='108', quantity='1', subtotal='50.094887884945365', tax='3.01', timestamp='2023-10-05 05:19:48+0100', total='53.896463762580886')\n",
      "Row(order_id='396', created_at='2019-09-08T03:58:52.357+05:30', customer_id='57', discount='\"NaN\"', product_id='32', quantity='5', subtotal='107.1448636959614', tax='6.43', timestamp='2023-10-05 05:19:35+0100', total='114.31211081088998')\n",
      "Row(order_id='478', created_at='2019-04-27T21:03:39.073+05:30', customer_id='65', discount='8.388059406656478', product_id='190', quantity='3', subtotal='128.5841852057933', tax='5.14', timestamp='2023-10-05 05:20:57+0100', total='135.91034753483504')\n",
      "Row(order_id='707', created_at='2019-10-07T13:37:50.799+05:30', customer_id='87', discount='\"NaN\"', product_id='130', quantity='5', subtotal='75.02573869315137', tax='0.0', timestamp='2023-10-05 05:24:47+0100', total='73.29617245555234')\n",
      "Row(order_id='437', created_at='2018-06-03T08:17:10.250+05:30', customer_id='60', discount='\"NaN\"', product_id='139', quantity='7', subtotal='76.77768319177018', tax='4.61', timestamp='2023-10-05 05:20:16+0100', total='83.21237373146319')\n",
      "Row(order_id='510', created_at='2018-01-05T19:27:01.469+05:30', customer_id='66', discount='4.68266106651563', product_id='32', quantity='2', subtotal='107.1448636959614', tax='4.29', timestamp='2023-10-05 05:21:29+0100', total='110.48958007242229')\n",
      "Row(order_id='460', created_at='2020-03-19T05:27:41.001+05:30', customer_id='63', discount='\"NaN\"', product_id='109', quantity='1', subtotal='119.04991068193098', tax='7.14', timestamp='2023-10-05 05:20:39+0100', total='127.8134707638738')\n",
      "Row(order_id='414', created_at='2018-03-01T07:57:22.443+05:30', customer_id='58', discount='\"NaN\"', product_id='141', quantity='1', subtotal='126.20312547576884', tax='7.57', timestamp='2023-10-05 05:19:53+0100', total='135.3820776557282')\n",
      "Row(order_id='693', created_at='2019-01-01T00:13:13.471+05:30', customer_id='87', discount='\"NaN\"', product_id='72', quantity='2', subtotal='142.20381898788685', tax='0.0', timestamp='2023-10-05 05:24:33+0100', total='144.59025207366682')\n",
      "Row(order_id='451', created_at='2019-06-17T19:47:17.628+05:30', customer_id='63', discount='\"NaN\"', product_id='173', quantity='6', subtotal='122.3651993029456', tax='7.34', timestamp='2023-10-05 05:20:30+0100', total='128.17857701856124')\n",
      "Row(order_id='701', created_at='2018-05-05T11:59:37.779+05:30', customer_id='87', discount='\"NaN\"', product_id='65', quantity='4', subtotal='68.22769726470014', tax='0.0', timestamp='2023-10-05 05:24:41+0100', total='69.90054777998651')\n",
      "Row(order_id='716', created_at='2019-08-01T21:39:36.979+05:30', customer_id='88', discount='2.9214782554427075', product_id='49', quantity='5', subtotal='131.42865839323724', tax='9.86', timestamp='2023-10-05 05:24:56+0100', total='138.9306463430706')\n",
      "Row(order_id='489', created_at='2020-04-13T22:31:06.897+05:30', customer_id='65', discount='\"NaN\"', product_id='181', quantity='33', subtotal='143.88940370476112', tax='5.76', timestamp='2023-10-05 05:21:08+0100', total='148.8314811023964')\n",
      "Row(order_id='709', created_at='2020-02-04T00:31:15.194+05:30', customer_id='87', discount='\"NaN\"', product_id='37', quantity='1', subtotal='80.10774204020768', tax='0.0', timestamp='2023-10-05 05:24:49+0100', total='78.77183106707722')\n",
      "Row(order_id='480', created_at='2018-05-21T05:30:00.660+05:30', customer_id='65', discount='\"NaN\"', product_id='129', quantity='4', subtotal='148.1672972165937', tax='5.93', timestamp='2023-10-05 05:20:59+0100', total='155.11814747514092')\n",
      "Row(order_id='470', created_at='2019-08-18T07:26:43.339+05:30', customer_id='65', discount='\"NaN\"', product_id='63', quantity='7', subtotal='133.5202262591817', tax='5.34', timestamp='2023-10-05 05:20:49+0100', total='141.89874882519297')\n",
      "Row(order_id='421', created_at='2019-05-16T22:30:22.001+05:30', customer_id='58', discount='\"NaN\"', product_id='154', quantity='4', subtotal='81.87529553312261', tax='4.91', timestamp='2023-10-05 05:20:00+0100', total='88.70428676778968')\n",
      "Row(order_id='504', created_at='2017-06-15T10:00:23.342+05:30', customer_id='65', discount='\"NaN\"', product_id='81', quantity='6', subtotal='29.288656154807867', tax='1.17', timestamp='2023-10-05 05:21:23+0100', total='31.0480661610767')\n",
      "Row(order_id='424', created_at='2017-12-09T05:35:23.576+05:30', customer_id='58', discount='\"NaN\"', product_id='195', quantity='2', subtotal='73.18718264538155', tax='4.39', timestamp='2023-10-05 05:20:03+0100', total='78.70398675198534')\n",
      "Row(order_id='407', created_at='2018-08-27T00:42:25.024+05:30', customer_id='57', discount='\"NaN\"', product_id='9', quantity='6', subtotal='87.46968147789205', tax='5.25', timestamp='2023-10-05 05:19:46+0100', total='92.7496706621034')\n",
      "Row(order_id='676', created_at='2019-02-21T03:49:38.648+05:30', customer_id='86', discount='\"NaN\"', product_id='70', quantity='2', subtotal='57.49300380895978', tax='4.31', timestamp='2023-10-05 05:24:16+0100', total='60.00982101562812')\n",
      "Row(order_id='471', created_at='2017-11-13T20:28:23.397+05:30', customer_id='65', discount='\"NaN\"', product_id='12', quantity='2', subtotal='77.34285054412217', tax='3.09', timestamp='2023-10-05 05:20:50+0100', total='79.4407328266171')\n",
      "Row(order_id='422', created_at='2017-01-23T06:32:25.410+05:30', customer_id='58', discount='\"NaN\"', product_id='109', quantity='2', subtotal='79.36660712128732', tax='4.76', timestamp='2023-10-05 05:20:01+0100', total='84.6521547546228')\n",
      "Row(order_id='425', created_at='2018-06-19T18:12:06.145+05:30', customer_id='58', discount='\"NaN\"', product_id='139', quantity='5', subtotal='76.77768319177018', tax='4.61', timestamp='2023-10-05 05:20:04+0100', total='79.88540142515373')\n",
      "Row(order_id='383', created_at='2020-02-04T14:58:02.739+05:30', customer_id='56', discount='\"NaN\"', product_id='10', quantity='2', subtotal='47.6793282102869', tax='1.38', timestamp='2023-10-05 05:19:22+0100', total='48.59156957937413')\n",
      "Row(order_id='428', created_at='2020-03-05T00:55:12.827+05:30', customer_id='59', discount='\"NaN\"', product_id='199', quantity='1', subtotal='115.4300138092855', tax='3.35', timestamp='2023-10-05 05:20:07+0100', total='118.3144649295572')\n",
      "Row(order_id='677', created_at='2016-08-03T20:49:04.297+05:30', customer_id='86', discount='\"NaN\"', product_id='175', quantity='7', subtotal='78.21653962235106', tax='5.87', timestamp='2023-10-05 05:24:17+0100', total='87.21401873057435')\n",
      "Row(order_id='494', created_at='2018-11-08T16:25:53.483+05:30', customer_id='65', discount='\"NaN\"', product_id='192', quantity='2', subtotal='69.18418520579327', tax='2.77', timestamp='2023-10-05 05:21:13+0100', total='73.99204940097943')\n",
      "Row(order_id='502', created_at='2018-01-14T02:06:44.968+05:30', customer_id='65', discount='\"NaN\"', product_id='57', quantity='2', subtotal='122.4223933583994', tax='4.9', timestamp='2023-10-05 05:21:21+0100', total='130.5197071598022')\n",
      "Row(order_id='490', created_at='2018-10-21T20:44:39.621+05:30', customer_id='65', discount='\"NaN\"', product_id='18', quantity='6', subtotal='81.90307121097293', tax='3.28', timestamp='2023-10-05 05:21:09+0100', total='86.68056697082629')\n",
      "Row(order_id='668', created_at='2018-10-20T19:35:32.948+05:30', customer_id='85', discount='\"NaN\"', product_id='57', quantity='5', subtotal='122.4223933583994', tax='7.65', timestamp='2023-10-05 05:24:08+0100', total='126.26308504459595')\n",
      "Row(order_id='477', created_at='2017-11-02T19:53:34.752+05:30', customer_id='65', discount='\"NaN\"', product_id='42', quantity='2', subtotal='25.336071424606207', tax='1.01', timestamp='2023-10-05 05:20:56+0100', total='26.61514718730732')\n",
      "Row(order_id='432', created_at='2019-09-07T09:16:15.917+05:30', customer_id='60', discount='\"NaN\"', product_id='54', quantity='4', subtotal='62.09360840402396', tax='3.73', timestamp='2023-10-05 05:20:11+0100', total='66.7328758462609')\n",
      "Row(order_id='442', created_at='2020-01-17T10:55:52.769+05:30', customer_id='60', discount='\"NaN\"', product_id='166', quantity='1', subtotal='38.30449564120193', tax='2.3', timestamp='2023-10-05 05:20:21+0100', total='40.96304727633953')\n",
      "Row(order_id='430', created_at='2017-12-11T11:28:30.062+05:30', customer_id='60', discount='\"NaN\"', product_id='159', quantity='2', subtotal='23.686782969182406', tax='1.42', timestamp='2023-10-05 05:20:09+0100', total='24.937942498189493')\n",
      "Row(order_id='418', created_at='2020-02-14T10:12:57.720+05:30', customer_id='58', discount='\"NaN\"', product_id='134', quantity='2', subtotal='42.49233549998661', tax='2.55', timestamp='2023-10-05 05:19:57+0100', total='44.49539115360754')\n",
      "Row(order_id='680', created_at='2019-06-01T10:10:11.540+05:30', customer_id='86', discount='\"NaN\"', product_id='101', quantity='6', subtotal='139.82488066180403', tax='10.49', timestamp='2023-10-05 05:24:20+0100', total='155.64004914360925')\n",
      "Row(order_id='703', created_at='2017-05-26T15:02:39.609+05:30', customer_id='87', discount='\"NaN\"', product_id='164', quantity='4', subtotal='61.978598800110106', tax='0.0', timestamp='2023-10-05 05:24:43+0100', total='60.19348642116768')\n",
      "Row(order_id='431', created_at='2017-10-29T07:04:26.371+05:30', customer_id='60', discount='\"NaN\"', product_id='94', quantity='4', subtotal='72.81242771103588', tax='4.37', timestamp='2023-10-05 05:20:10+0100', total='75.97530913131227')\n",
      "Row(order_id='440', created_at='2019-12-26T06:59:20.126+05:30', customer_id='60', discount='\"NaN\"', product_id='157', quantity='1', subtotal='139.8942352373801', tax='8.39', timestamp='2023-10-05 05:20:19+0100', total='147.24301380092294')\n",
      "Row(order_id='399', created_at='2020-04-08T13:59:25.853+05:30', customer_id='57', discount='\"NaN\"', product_id='24', quantity='4', subtotal='112.30643674729411', tax='6.74', timestamp='2023-10-05 05:19:38+0100', total='117.27581232867392')\n",
      "Row(order_id='448', created_at='2016-12-25T22:19:38.656+05:30', customer_id='61', discount='\"NaN\"', product_id='1', quantity='2', subtotal='29.463261130679875', tax='1.4', timestamp='2023-10-05 05:20:27+0100', total='30.25633246374132')\n",
      "Row(order_id='488', created_at='2017-04-26T09:18:38.798+05:30', customer_id='65', discount='\"NaN\"', product_id='48', quantity='3', subtotal='82.13922832356072', tax='3.29', timestamp='2023-10-05 05:21:07+0100', total='87.14535371196993')\n",
      "Row(order_id='690', created_at='2018-12-29T21:25:57.126+05:30', customer_id='87', discount='\"NaN\"', product_id='119', quantity='1', subtotal='43.43814329652384', tax='0.0', timestamp='2023-10-05 05:24:30+0100', total='43.410286784099966')\n",
      "Row(order_id='506', created_at='2019-10-27T05:39:57.067+05:30', customer_id='65', discount='\"NaN\"', product_id='35', quantity='8', subtotal='71.53687730741436', tax='2.86', timestamp='2023-10-05 05:21:25+0100', total='74.98490263678397')\n",
      "Row(order_id='699', created_at='2019-12-27T07:21:25.590+05:30', customer_id='87', discount='7.3696158049076175', product_id='66', quantity='1', subtotal='136.16126271106958', tax='0.0', timestamp='2023-10-05 05:24:39+0100', total='140.51377683166737')\n",
      "Row(order_id='465', created_at='2019-05-04T16:41:35.285+05:30', customer_id='63', discount='\"NaN\"', product_id='178', quantity='3', subtotal='117.32963250370614', tax='7.04', timestamp='2023-10-05 05:20:44+0100', total='121.97419782345848')\n",
      "Row(order_id='397', created_at='2018-01-11T22:54:05.414+05:30', customer_id='57', discount='\"NaN\"', product_id='47', quantity='2', subtotal='84.0766209826718', tax='5.04', timestamp='2023-10-05 05:19:36+0100', total='90.7499417106083')\n",
      "Row(order_id='711', created_at='2018-01-24T09:28:27.417+05:30', customer_id='87', discount='\"NaN\"', product_id='70', quantity='2', subtotal='57.49300380895978', tax='0.0', timestamp='2023-10-05 05:24:51+0100', total='58.57685302601168')\n",
      "Row(order_id='427', created_at='2018-10-16T02:39:22.089+05:30', customer_id='59', discount='\"NaN\"', product_id='179', quantity='5', subtotal='68.32408657333919', tax='1.98', timestamp='2023-10-05 05:20:06+0100', total='70.52115094842453')\n",
      "Row(order_id='459', created_at='2019-03-15T19:51:20.396+05:30', customer_id='63', discount='\"NaN\"', product_id='171', quantity='1', subtotal='105.07665741496471', tax='6.3', timestamp='2023-10-05 05:20:38+0100', total='111.74988784408217')\n",
      "Row(order_id='505', created_at='2019-06-29T08:12:07.527+05:30', customer_id='65', discount='\"NaN\"', product_id='70', quantity='7', subtotal='57.49300380895978', tax='2.3', timestamp='2023-10-05 05:21:24+0100', total='59.12600713059797')\n",
      "Row(order_id='710', created_at='2018-12-04T20:34:05.792+05:30', customer_id='87', discount='\"NaN\"', product_id='74', quantity='1', subtotal='51.12804227386549', tax='0.0', timestamp='2023-10-05 05:24:50+0100', total='50.01007485859503')\n",
      "Row(order_id='435', created_at='2019-05-16T01:29:13.430+05:30', customer_id='60', discount='\"NaN\"', product_id='140', quantity='5', subtotal='66.80312547576881', tax='4.01', timestamp='2023-10-05 05:20:14+0100', total='69.54596714535174')\n",
      "Row(order_id='436', created_at='2018-11-14T21:00:27.503+05:30', customer_id='60', discount='\"NaN\"', product_id='67', quantity='4', subtotal='41.24480890795779', tax='2.47', timestamp='2023-10-05 05:20:15+0100', total='44.35828856850427')\n",
      "Row(order_id='420', created_at='2016-06-23T18:11:12.940+05:30', customer_id='58', discount='\"NaN\"', product_id='55', quantity='6', subtotal='63.84752383956291', tax='3.83', timestamp='2023-10-05 05:19:59+0100', total='68.51641350964162')\n",
      "Row(order_id='678', created_at='2018-01-17T23:34:56.979+05:30', customer_id='86', discount='\"NaN\"', product_id='82', quantity='2', subtotal='60.89545738030947', tax='4.57', timestamp='2023-10-05 05:24:18+0100', total='66.13848581551076')\n",
      "Row(order_id='718', created_at='2019-01-30T02:14:58.760+05:30', customer_id='91', discount='\"NaN\"', product_id='35', quantity='2', subtotal='71.53687730741436', tax='4.47', timestamp='2023-10-05 05:24:58+0100', total='74.61078468672082')\n",
      "Row(order_id='386', created_at='2020-01-06T17:59:58.214+05:30', customer_id='56', discount='\"NaN\"', product_id='11', quantity='3', subtotal='132.45679913492563', tax='3.84', timestamp='2023-10-05 05:19:25+0100', total='136.0827569771057')\n",
      "Row(order_id='395', created_at='2019-09-19T00:49:00.466+05:30', customer_id='57', discount='\"NaN\"', product_id='199', quantity='5', subtotal='115.4300138092855', tax='6.93', timestamp='2023-10-05 05:19:34+0100', total='120.81055827436172')\n",
      "Row(order_id='674', created_at='2018-03-06T04:36:59.161+05:30', customer_id='86', discount='\"NaN\"', product_id='39', quantity='1', subtotal='114.5815818028346', tax='8.59', timestamp='2023-10-05 05:24:14+0100', total='122.49281012575156')\n",
      "Row(order_id='391', created_at='2019-03-03T12:35:40.795+05:30', customer_id='57', discount='\"NaN\"', product_id='38', quantity='1', subtotal='66.06937283839378', tax='3.96', timestamp='2023-10-05 05:19:30+0100', total='69.61636192088085')\n",
      "Row(order_id='406', created_at='2020-03-29T05:09:14.418+05:30', customer_id='57', discount='\"NaN\"', product_id='135', quantity='1', subtotal='45.80402317157342', tax='2.75', timestamp='2023-10-05 05:19:45+0100', total='47.82349872892596')\n",
      "Row(order_id='704', created_at='2019-01-05T18:23:34.165+05:30', customer_id='87', discount='\"NaN\"', product_id='166', quantity='2', subtotal='38.30449564120193', tax='0.0', timestamp='2023-10-05 05:24:44+0100', total='39.54738166190667')\n",
      "Row(order_id='413', created_at='2016-09-30T18:50:30.528+05:30', customer_id='58', discount='\"NaN\"', product_id='25', quantity='4', subtotal='45.7484264478831', tax='2.74', timestamp='2023-10-05 05:19:52+0100', total='47.70890910336195')\n",
      "Row(order_id='450', created_at='2020-03-18T07:55:32.395+05:30', customer_id='63', discount='\"NaN\"', product_id='190', quantity='1', subtotal='128.5841852057933', tax='7.72', timestamp='2023-10-05 05:20:29+0100', total='137.45112973190433')\n",
      "Row(order_id='495', created_at='2019-07-29T21:06:13.536+05:30', customer_id='65', discount='\"NaN\"', product_id='6', quantity='4', subtotal='97.43621265344382', tax='3.9', timestamp='2023-10-05 05:21:14+0100', total='103.18201119587263')\n",
      "Row(order_id='688', created_at='2017-09-04T12:17:01.878+05:30', customer_id='87', discount='\"NaN\"', product_id='122', quantity='4', subtotal='66.56352219205405', tax='0.0', timestamp='2023-10-05 05:24:28+0100', total='66.68117595680107')\n",
      "Row(order_id='669', created_at='2020-02-01T03:24:47.982+05:30', customer_id='85', discount='\"NaN\"', product_id='96', quantity='1', subtotal='104.82144858590364', tax='6.55', timestamp='2023-10-05 05:24:09+0100', total='115.328214221491')\n",
      "Row(order_id='486', created_at='2018-01-13T16:31:04.766+05:30', customer_id='65', discount='\"NaN\"', product_id='62', quantity='1', subtotal='133.5202262591817', tax='5.34', timestamp='2023-10-05 05:21:05+0100', total='141.16101464699383')\n",
      "Row(order_id='479', created_at='2017-07-25T12:09:25.243+05:30', customer_id='65', discount='\"NaN\"', product_id='55', quantity='5', subtotal='63.84752383956291', tax='2.55', timestamp='2023-10-05 05:20:58+0100', total='65.37044154843309')\n",
      "Row(order_id='462', created_at='2017-07-13T11:33:05.440+05:30', customer_id='63', discount='\"NaN\"', product_id='44', quantity='2', subtotal='50.90170136783837', tax='3.05', timestamp='2023-10-05 05:20:41+0100', total='53.32536407714942')\n",
      "Row(order_id='679', created_at='2017-10-31T15:52:26.910+05:30', customer_id='86', discount='\"NaN\"', product_id='93', quantity='6', subtotal='33.212427711035886', tax='2.49', timestamp='2023-10-05 05:24:19+0100', total='36.39203525875358')\n",
      "Row(order_id='443', created_at='2018-11-07T01:21:45.814+05:30', customer_id='60', discount='\"NaN\"', product_id='110', quantity='3', subtotal='55.52674618690666', tax='3.33', timestamp='2023-10-05 05:20:22+0100', total='58.19264176147853')\n",
      "Row(order_id='454', created_at='2020-03-04T07:20:42.504+05:30', customer_id='63', discount='\"NaN\"', product_id='72', quantity='1', subtotal='142.20381898788685', tax='8.53', timestamp='2023-10-05 05:20:33+0100', total='150.6933347851434')\n",
      "Row(order_id='485', created_at='2017-11-10T08:05:46.165+05:30', customer_id='65', discount='\"NaN\"', product_id='77', quantity='2', subtotal='67.34461152277315', tax='2.69', timestamp='2023-10-05 05:21:04+0100', total='69.8027015475326')\n",
      "Row(order_id='447', created_at='2018-01-19T06:37:14.795+05:30', customer_id='61', discount='\"NaN\"', product_id='11', quantity='2', subtotal='132.45679913492563', tax='6.29', timestamp='2023-10-05 05:20:26+0100', total='140.66457013942542')\n",
      "Row(order_id='404', created_at='2018-09-17T06:08:23.148+05:30', customer_id='57', discount='\"NaN\"', product_id='66', quantity='5', subtotal='136.16126271106958', tax='8.17', timestamp='2023-10-05 05:19:43+0100', total='143.55062850130912')\n",
      "Row(order_id='384', created_at='2017-02-08T17:31:32.788+05:30', customer_id='56', discount='\"NaN\"', product_id='79', quantity='2', subtotal='27.74461152277315', tax='0.8', timestamp='2023-10-05 05:19:23+0100', total='29.00406572036796')\n",
      "Row(order_id='405', created_at='2019-01-15T12:03:15.018+05:30', customer_id='57', discount='\"NaN\"', product_id='116', quantity='2', subtotal='114.42485125407784', tax='6.87', timestamp='2023-10-05 05:19:44+0100', total='121.51827455929872')\n",
      "Row(order_id='481', created_at='2016-12-14T17:13:11.386+05:30', customer_id='65', discount='\"NaN\"', product_id='151', quantity='2', subtotal='61.07534871228964', tax='2.44', timestamp='2023-10-05 05:21:00+0100', total='64.78784694884361')\n",
      "Row(order_id='675', created_at='2019-08-21T14:39:27.466+05:30', customer_id='86', discount='\"NaN\"', product_id='26', quantity='7', subtotal='68.12471180754113', tax='5.11', timestamp='2023-10-05 05:24:15+0100', total='74.29596344139772')\n",
      "Row(order_id='683', created_at='2019-08-24T16:05:43.329+05:30', customer_id='87', discount='\"NaN\"', product_id='35', quantity='9', subtotal='71.53687730741436', tax='0.0', timestamp='2023-10-05 05:24:23+0100', total='69.68041191658573')\n",
      "Row(order_id='673', created_at='2019-09-03T17:26:59.506+05:30', customer_id='86', discount='\"NaN\"', product_id='19', quantity='3', subtotal='64.00675097561322', tax='4.8', timestamp='2023-10-05 05:24:13+0100', total='70.65098304772008')\n",
      "Row(order_id='438', created_at='2018-01-05T20:44:49.943+05:30', customer_id='60', discount='\"NaN\"', product_id='190', quantity='2', subtotal='128.5841852057933', tax='7.72', timestamp='2023-10-05 05:20:17+0100', total='137.57231774773834')\n",
      "Row(order_id='419', created_at='2017-08-11T03:41:44.510+05:30', customer_id='58', discount='\"NaN\"', product_id='146', quantity='9', subtotal='84.03151414144409', tax='5.04', timestamp='2023-10-05 05:19:58+0100', total='90.61829794465476')\n",
      "Row(order_id='382', created_at='2019-08-26T12:44:21.445+05:30', customer_id='56', discount='\"NaN\"', product_id='142', quantity='7', subtotal='70.34853057210945', tax='2.04', timestamp='2023-10-05 05:19:21+0100', total='71.49193358733542')\n",
      "Row(order_id='498', created_at='2019-03-19T23:33:25.544+05:30', customer_id='65', discount='\"NaN\"', product_id='86', quantity='1', subtotal='92.31436670850246', tax='3.69', timestamp='2023-10-05 05:21:17+0100', total='98.7762498108074')\n",
      "Row(order_id='507', created_at='2017-08-07T17:14:26.159+05:30', customer_id='66', discount='\"NaN\"', product_id='142', quantity='6', subtotal='46.8990203814063', tax='1.88', timestamp='2023-10-05 05:21:26+0100', total='48.18902852138245')\n",
      "Row(order_id='708', created_at='2019-09-10T20:48:05.524+05:30', customer_id='87', discount='\"NaN\"', product_id='102', quantity='5', subtotal='47.04215255778118', tax='0.0', timestamp='2023-10-05 05:24:48+0100', total='47.532363094188085')\n",
      "Row(order_id='698', created_at='2020-01-06T06:00:54.869+05:30', customer_id='87', discount='\"NaN\"', product_id='99', quantity='2', subtotal='67.83486485383094', tax='0.0', timestamp='2023-10-05 05:24:38+0100', total='67.16303352001898')\n",
      "Row(order_id='487', created_at='2019-11-21T09:10:06.485+05:30', customer_id='65', discount='3.231974640164916', product_id='70', quantity='2', subtotal='57.49300380895978', tax='2.3', timestamp='2023-10-05 05:21:06+0100', total='60.68725579249943')\n",
      "Row(order_id='706', created_at='2019-07-21T13:39:54.596+05:30', customer_id='87', discount='\"NaN\"', product_id='17', quantity='5', subtotal='79.93608046792765', tax='0.0', timestamp='2023-10-05 05:24:46+0100', total='80.04534270189784')\n",
      "Row(order_id='449', created_at='2017-09-02T02:34:34.273+05:30', customer_id='63', discount='\"NaN\"', product_id='187', quantity='6', subtotal='65.98466722567774', tax='3.96', timestamp='2023-10-05 05:20:28+0100', total='71.4961674232651')\n",
      "Row(order_id='476', created_at='2020-03-24T20:24:47.644+05:30', customer_id='65', discount='\"NaN\"', product_id='86', quantity='1', subtotal='92.31436670850246', tax='3.69', timestamp='2023-10-05 05:20:55+0100', total='97.84516246123424')\n",
      "Row(order_id='389', created_at='2018-05-23T03:41:32.176+05:30', customer_id='56', discount='\"NaN\"', product_id='181', quantity='4', subtotal='143.88940370476112', tax='4.17', timestamp='2023-10-05 05:19:28+0100', total='148.22314071437344')\n",
      "Row(order_id='713', created_at='2018-09-03T14:06:27.763+05:30', customer_id='87', discount='\"NaN\"', product_id='99', quantity='5', subtotal='67.83486485383094', tax='0.0', timestamp='2023-10-05 05:24:53+0100', total='69.65993391520854')\n",
      "Row(order_id='463', created_at='2019-12-16T10:35:43.140+05:30', customer_id='63', discount='\"NaN\"', product_id='59', quantity='1', subtotal='89.20214751859149', tax='5.35', timestamp='2023-10-05 05:20:42+0100', total='93.75123655570916')\n",
      "Row(order_id='691', created_at='2018-06-02T00:40:58.931+05:30', customer_id='87', discount='\"NaN\"', product_id='98', quantity='5', subtotal='112.41825444654248', tax='0.0', timestamp='2023-10-05 05:24:31+0100', total='109.62664049194096')\n",
      "Row(order_id='670', created_at='2020-02-15T06:22:16.101+05:30', customer_id='85', discount='\"NaN\"', product_id='90', quantity='2', subtotal='123.1196127553999', tax='7.69', timestamp='2023-10-05 05:24:10+0100', total='129.33348659268268')\n",
      "Row(order_id='681', created_at='2019-05-19T05:54:34.615+05:30', customer_id='87', discount='\"NaN\"', product_id='124', quantity='6', subtotal='110.93145648834248', tax='0.0', timestamp='2023-10-05 05:24:21+0100', total='114.34886520378129')\n",
      "Row(order_id='696', created_at='2019-10-09T12:08:51.792+05:30', customer_id='87', discount='\"NaN\"', product_id='11', quantity='3', subtotal='132.45679913492563', tax='0.0', timestamp='2023-10-05 05:24:36+0100', total='135.19576231088735')\n",
      "Row(order_id='423', created_at='2019-11-01T13:11:10.807+05:30', customer_id='58', discount='\"NaN\"', product_id='97', quantity='2', subtotal='112.41825444654248', tax='6.75', timestamp='2023-10-05 05:20:02+0100', total='121.07592604100272')\n",
      "Row(order_id='439', created_at='2018-03-25T13:08:50.346+05:30', customer_id='60', discount='\"NaN\"', product_id='97', quantity='1', subtotal='112.41825444654248', tax='6.75', timestamp='2023-10-05 05:20:18+0100', total='119.38404141372392')\n",
      "Row(order_id='497', created_at='2019-07-17T23:01:18.153+05:30', customer_id='65', discount='\"NaN\"', product_id='70', quantity='5', subtotal='57.49300380895978', tax='2.3', timestamp='2023-10-05 05:21:16+0100', total='61.04767977699996')\n",
      "Row(order_id='685', created_at='2017-03-21T02:49:06.398+05:30', customer_id='87', discount='\"NaN\"', product_id='118', quantity='1', subtotal='38.418408731319154', tax='0.0', timestamp='2023-10-05 05:24:25+0100', total='38.4947033067392')\n",
      "Row(order_id='400', created_at='2017-08-17T17:53:28.363+05:30', customer_id='57', discount='\"NaN\"', product_id='34', quantity='9', subtotal='49.53594257942133', tax='2.97', timestamp='2023-10-05 05:19:39+0100', total='52.17746474250063')\n",
      "Row(order_id='482', created_at='2017-06-12T23:52:28.674+05:30', customer_id='65', discount='\"NaN\"', product_id='72', quantity='6', subtotal='94.80254599192456', tax='3.79', timestamp='2023-10-05 05:21:01+0100', total='97.47813044447132')\n",
      "Row(order_id='695', created_at='2020-04-07T23:19:52.050+05:30', customer_id='87', discount='\"NaN\"', product_id='73', quantity='2', subtotal='71.6287722595695', tax='0.0', timestamp='2023-10-05 05:24:35+0100', total='70.34361303125344')\n",
      "Row(order_id='484', created_at='2019-11-25T17:43:52.545+05:30', customer_id='65', discount='\"NaN\"', product_id='74', quantity='3', subtotal='51.12804227386549', tax='2.05', timestamp='2023-10-05 05:21:03+0100', total='52.33261402007104')\n",
      "Row(order_id='694', created_at='2020-01-21T16:42:03.957+05:30', customer_id='87', discount='6.568559382201734', product_id='96', quantity='2', subtotal='104.82144858590364', tax='0.0', timestamp='2023-10-05 05:24:34+0100', total='105.2806989039232')\n",
      "Row(order_id='446', created_at='2019-02-13T15:39:53.968+05:30', customer_id='61', discount='\"NaN\"', product_id='66', quantity='2', subtotal='136.16126271106958', tax='6.47', timestamp='2023-10-05 05:20:25+0100', total='139.9123127656255')\n",
      "Row(order_id='388', created_at='2017-10-14T21:21:00.015+05:30', customer_id='56', discount='\"NaN\"', product_id='33', quantity='5', subtotal='31.82990913064093', tax='0.92', timestamp='2023-10-05 05:19:27+0100', total='32.30255040917255')\n",
      "Row(order_id='441', created_at='2018-02-01T00:19:13.758+05:30', customer_id='60', discount='\"NaN\"', product_id='76', quantity='1', subtotal='63.82421061366486', tax='3.83', timestamp='2023-10-05 05:20:20+0100', total='68.05809097118585')\n",
      "Row(order_id='392', created_at='2019-10-25T00:33:50.031+05:30', customer_id='57', discount='\"NaN\"', product_id='15', quantity='4', subtotal='37.648145389078365', tax='2.26', timestamp='2023-10-05 05:19:31+0100', total='40.34538717239162')\n",
      "Row(order_id='412', created_at='2020-03-18T10:48:58.903+05:30', customer_id='57', discount='\"NaN\"', product_id='17', quantity='1', subtotal='79.93608046792765', tax='4.8', timestamp='2023-10-05 05:19:51+0100', total='84.86751050635075')\n",
      "Row(order_id='401', created_at='2019-01-06T21:15:34.699+05:30', customer_id='57', discount='\"NaN\"', product_id='53', quantity='2', subtotal='44.27587240151534', tax='2.66', timestamp='2023-10-05 05:19:40+0100', total='47.205738088428575')\n",
      "Row(order_id='705', created_at='2019-07-17T09:39:31.567+05:30', customer_id='87', discount='\"NaN\"', product_id='2', quantity='6', subtotal='105.11984419607644', tax='0.0', timestamp='2023-10-05 05:24:45+0100', total='102.9144843237109')\n",
      "Row(order_id='381', created_at='2018-08-24T02:12:10.251+05:30', customer_id='56', discount='3.898344060565898', product_id='65', quantity='5', subtotal='68.22769726470014', tax='1.98', timestamp='2023-10-05 05:19:20+0100', total='69.62340790180703')\n",
      "Row(order_id='456', created_at='2018-11-30T18:05:33.044+05:30', customer_id='63', discount='7.541138853904888', product_id='171', quantity='3', subtotal='105.07665741496471', tax='6.3', timestamp='2023-10-05 05:20:35+0100', total='112.56829697856077')\n",
      "Row(order_id='671', created_at='2019-11-16T05:17:50.938+05:30', customer_id='85', discount='\"NaN\"', product_id='115', quantity='4', subtotal='77.91196471862148', tax='4.87', timestamp='2023-10-05 05:24:11+0100', total='81.99291668105185')\n",
      "Row(order_id='501', created_at='2019-11-04T23:23:07.505+05:30', customer_id='65', discount='\"NaN\"', product_id='113', quantity='3', subtotal='110.47725376186015', tax='4.42', timestamp='2023-10-05 05:21:20+0100', total='112.822261783324')\n",
      "Row(order_id='667', created_at='2020-02-12T23:59:13.486+05:30', customer_id='85', discount='\"NaN\"', product_id='177', quantity='2', subtotal='128.8192981944599', tax='8.05', timestamp='2023-10-05 05:24:07+0100', total='132.74048679713383')\n",
      "Row(order_id='509', created_at='2018-11-12T08:50:33.454+05:30', customer_id='66', discount='4.68266106651563', product_id='199', quantity='3', subtotal='115.4300138092855', tax='4.62', timestamp='2023-10-05 05:21:28+0100', total='118.76539396641444')\n",
      "Row(order_id='496', created_at='2017-04-09T12:52:19.187+05:30', customer_id='65', discount='\"NaN\"', product_id='194', quantity='2', subtotal='33.587182645381546', tax='1.34', timestamp='2023-10-05 05:21:15+0100', total='35.33146840939703')\n",
      "Row(order_id='499', created_at='2017-11-20T01:33:29.306+05:30', customer_id='65', discount='\"NaN\"', product_id='178', quantity='3', subtotal='78.21975500247076', tax='3.13', timestamp='2023-10-05 05:21:18+0100', total='83.41519452277176')\n",
      "Row(order_id='455', created_at='2017-09-20T07:26:12.723+05:30', customer_id='63', discount='\"NaN\"', product_id='49', quantity='5', subtotal='87.61910559549149', tax='5.26', timestamp='2023-10-05 05:20:34+0100', total='91.395810106576')\n",
      "Row(order_id='417', created_at='2020-04-13T13:39:43.254+05:30', customer_id='58', discount='\"NaN\"', product_id='26', quantity='3', subtotal='68.12471180754113', tax='4.09', timestamp='2023-10-05 05:19:56+0100', total='73.945586801666')\n",
      "Row(order_id='672', created_at='2019-01-03T08:13:52.234+05:30', customer_id='85', discount='\"NaN\"', product_id='8', quantity='2', subtotal='98.83823503993958', tax='6.18', timestamp='2023-10-05 05:24:12+0100', total='108.30108652854948')\n",
      "Row(order_id='692', created_at='2019-06-25T18:19:58.956+05:30', customer_id='87', discount='\"NaN\"', product_id='103', quantity='7', subtotal='47.04215255778118', tax='0.0', timestamp='2023-10-05 05:24:32+0100', total='47.34047665271665')\n",
      "Row(order_id='461', created_at='2017-12-12T00:25:52.755+05:30', customer_id='63', discount='\"NaN\"', product_id='131', quantity='2', subtotal='75.41148135558485', tax='4.52', timestamp='2023-10-05 05:20:40+0100', total='80.80127557476384')\n",
      "Row(order_id='466', created_at='2018-12-28T12:58:29.042+05:30', customer_id='63', discount='\"NaN\"', product_id='158', quantity='1', subtotal='139.8942352373801', tax='8.39', timestamp='2023-10-05 05:20:45+0100', total='151.8981154262864')\n",
      "Row(order_id='426', created_at='2019-08-18T04:49:44.640+05:30', customer_id='59', discount='1.9723649095629527', product_id='111', quantity='6', subtotal='55.52674618690666', tax='1.61', timestamp='2023-10-05 05:20:05+0100', total='56.54305346585669')\n",
      "Row(order_id='714', created_at='2019-04-19T16:22:32.549+05:30', customer_id='88', discount='\"NaN\"', product_id='171', quantity='3', subtotal='105.07665741496471', tax='7.88', timestamp='2023-10-05 05:24:54+0100', total='113.00617383859384')\n",
      "Row(order_id='387', created_at='2018-01-23T02:55:19.603+05:30', customer_id='56', discount='\"NaN\"', product_id='94', quantity='2', subtotal='109.21864156655384', tax='3.17', timestamp='2023-10-05 05:19:26+0100', total='114.15951778671293')\n",
      "Row(order_id='445', created_at='2016-09-30T11:12:07.118+05:30', customer_id='61', discount='6.876628911620124', product_id='118', quantity='6', subtotal='38.418408731319154', tax='1.82', timestamp='2023-10-05 05:20:24+0100', total='40.12376218898509')\n",
      "Row(order_id='415', created_at='2020-02-21T21:43:22.083+05:30', customer_id='58', discount='\"NaN\"', product_id='29', quantity='2', subtotal='123.57448218067184', tax='7.41', timestamp='2023-10-05 05:19:54+0100', total='131.81705611905855')\n",
      "Row(order_id='410', created_at='2017-07-02T12:56:21.145+05:30', customer_id='57', discount='\"NaN\"', product_id='122', quantity='4', subtotal='66.56352219205405', tax='3.99', timestamp='2023-10-05 05:19:49+0100', total='70.85148805307942')\n",
      "Row(order_id='491', created_at='2017-11-20T16:20:53.130+05:30', customer_id='65', discount='\"NaN\"', product_id='190', quantity='3', subtotal='85.72279013719552', tax='3.43', timestamp='2023-10-05 05:21:10+0100', total='87.18535661668042')\n",
      "Row(order_id='717', created_at='2019-06-03T12:36:05.927+05:30', customer_id='91', discount='\"NaN\"', product_id='116', quantity='4', subtotal='114.42485125407784', tax='7.15', timestamp='2023-10-05 05:24:57+0100', total='118.11728544268703')\n",
      "Row(order_id='503', created_at='2020-03-28T21:52:21.146+05:30', customer_id='65', discount='5.092972950830345', product_id='62', quantity='1', subtotal='133.5202262591817', tax='5.34', timestamp='2023-10-05 05:21:22+0100', total='139.32487470848483')\n",
      "Row(order_id='464', created_at='2020-01-13T21:58:59.374+05:30', customer_id='63', discount='\"NaN\"', product_id='183', quantity='1', subtotal='56.69741230191976', tax='3.4', timestamp='2023-10-05 05:20:43+0100', total='60.791609236243424')\n",
      "Row(order_id='433', created_at='2017-03-14T11:58:50.111+05:30', customer_id='60', discount='\"NaN\"', product_id='109', quantity='1', subtotal='79.36660712128732', tax='4.76', timestamp='2023-10-05 05:20:12+0100', total='82.49752305686192')\n"
     ]
    }
   ],
   "source": [
    "for row in a:\n",
    "    print(row)"
   ]
  },
  {
   "cell_type": "code",
   "execution_count": null,
   "metadata": {},
   "outputs": [],
   "source": []
  }
 ],
 "metadata": {
  "kernelspec": {
   "display_name": ".venv",
   "language": "python",
   "name": "python3"
  },
  "language_info": {
   "codemirror_mode": {
    "name": "ipython",
    "version": 3
   },
   "file_extension": ".py",
   "mimetype": "text/x-python",
   "name": "python",
   "nbconvert_exporter": "python",
   "pygments_lexer": "ipython3",
   "version": "3.7.17"
  },
  "orig_nbformat": 4
 },
 "nbformat": 4,
 "nbformat_minor": 2
}
